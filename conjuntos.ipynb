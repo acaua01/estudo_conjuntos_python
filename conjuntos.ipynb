{
 "cells": [
  {
   "cell_type": "markdown",
   "id": "827ab642",
   "metadata": {},
   "source": [
    "# Conjuntos"
   ]
  },
  {
   "cell_type": "code",
   "execution_count": 16,
   "id": "892a6c1d",
   "metadata": {},
   "outputs": [],
   "source": [
    "lista = [1,2,3,3,4,5,3,6,7,8,8,8,54,3,3,2,2,2,47,32]\n",
    "\n",
    "conjunto_1 = set(lista)"
   ]
  },
  {
   "cell_type": "code",
   "execution_count": 17,
   "id": "921ad5a4",
   "metadata": {},
   "outputs": [
    {
     "name": "stdout",
     "output_type": "stream",
     "text": [
      "{32, 1, 2, 3, 4, 5, 6, 7, 8, 47, 54}\n"
     ]
    }
   ],
   "source": [
    "print(conjunto_1)"
   ]
  },
  {
   "cell_type": "code",
   "execution_count": 18,
   "id": "88bfb276",
   "metadata": {},
   "outputs": [
    {
     "name": "stdout",
     "output_type": "stream",
     "text": [
      "[1, 2, 3, 3, 4, 5, 3, 6, 7, 8, 8, 8, 54, 3, 3, 2, 2, 2, 47, 32]\n"
     ]
    }
   ],
   "source": [
    "print(lista)"
   ]
  },
  {
   "cell_type": "code",
   "execution_count": 19,
   "id": "addc1e64",
   "metadata": {},
   "outputs": [
    {
     "data": {
      "text/plain": [
       "[1, 2, 3, 3, 4, 5, 3, 6, 7, 8, 8, 8, 54, 3, 3, 2, 2, 2, 47, 32]"
      ]
     },
     "execution_count": 19,
     "metadata": {},
     "output_type": "execute_result"
    }
   ],
   "source": [
    "lista"
   ]
  },
  {
   "cell_type": "code",
   "execution_count": 20,
   "id": "93cb02db",
   "metadata": {},
   "outputs": [],
   "source": [
    "conjunto_2 = {1,3,3,5,5,0,0,23,-2}"
   ]
  },
  {
   "cell_type": "code",
   "execution_count": 21,
   "id": "e6348310",
   "metadata": {},
   "outputs": [
    {
     "name": "stdout",
     "output_type": "stream",
     "text": [
      "{0, 1, 3, 5, 23, -2}\n"
     ]
    }
   ],
   "source": [
    "print(conjunto_2)"
   ]
  },
  {
   "cell_type": "code",
   "execution_count": 22,
   "id": "f1d17dbc",
   "metadata": {},
   "outputs": [],
   "source": [
    "conjunto_2.add(49)"
   ]
  },
  {
   "cell_type": "code",
   "execution_count": 23,
   "id": "235a6daf",
   "metadata": {},
   "outputs": [
    {
     "name": "stdout",
     "output_type": "stream",
     "text": [
      "{0, 1, 49, 3, 5, 23, -2}\n"
     ]
    }
   ],
   "source": [
    "print(conjunto_2)"
   ]
  },
  {
   "cell_type": "code",
   "execution_count": 24,
   "id": "6a1e9427",
   "metadata": {},
   "outputs": [],
   "source": [
    "conjunto_2.remove(0)"
   ]
  },
  {
   "cell_type": "code",
   "execution_count": 25,
   "id": "a2384d8c",
   "metadata": {},
   "outputs": [
    {
     "name": "stdout",
     "output_type": "stream",
     "text": [
      "{1, 49, 3, 5, 23, -2}\n"
     ]
    }
   ],
   "source": [
    "print(conjunto_2)"
   ]
  },
  {
   "cell_type": "code",
   "execution_count": null,
   "id": "38169e7f",
   "metadata": {},
   "outputs": [],
   "source": []
  }
 ],
 "metadata": {
  "kernelspec": {
   "display_name": "Python 3 (ipykernel)",
   "language": "python",
   "name": "python3"
  },
  "language_info": {
   "codemirror_mode": {
    "name": "ipython",
    "version": 3
   },
   "file_extension": ".py",
   "mimetype": "text/x-python",
   "name": "python",
   "nbconvert_exporter": "python",
   "pygments_lexer": "ipython3",
   "version": "3.10.9"
  }
 },
 "nbformat": 4,
 "nbformat_minor": 5
}
